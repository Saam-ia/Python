{
  "nbformat": 4,
  "nbformat_minor": 0,
  "metadata": {
    "colab": {
      "provenance": [],
      "toc_visible": true,
      "authorship_tag": "ABX9TyPN9mkv5he3CgHidplypDYR",
      "include_colab_link": true
    },
    "kernelspec": {
      "name": "python3",
      "display_name": "Python 3"
    },
    "language_info": {
      "name": "python"
    }
  },
  "cells": [
    {
      "cell_type": "markdown",
      "metadata": {
        "id": "view-in-github",
        "colab_type": "text"
      },
      "source": [
        "<a href=\"https://colab.research.google.com/github/Saam-ia/Python/blob/main/Python.ipynb\" target=\"_parent\"><img src=\"https://colab.research.google.com/assets/colab-badge.svg\" alt=\"Open In Colab\"/></a>"
      ]
    },
    {
      "cell_type": "markdown",
      "source": [
        "# **Basic printing and storing variable**"
      ],
      "metadata": {
        "id": "LcYYCyj5NoHG"
      }
    },
    {
      "cell_type": "markdown",
      "source": [
        "In order to print a string"
      ],
      "metadata": {
        "id": "wTdY5NFPw_7D"
      }
    },
    {
      "cell_type": "code",
      "source": [
        "print(\"Hello World\")"
      ],
      "metadata": {
        "colab": {
          "base_uri": "https://localhost:8080/"
        },
        "id": "KgtT2xhWvWfU",
        "outputId": "431e5ead-1dd1-4eb9-f641-524c34529d89"
      },
      "execution_count": null,
      "outputs": [
        {
          "output_type": "stream",
          "name": "stdout",
          "text": [
            "Hello World\n"
          ]
        }
      ]
    },
    {
      "cell_type": "markdown",
      "source": [
        "You can check the type of variable using this function"
      ],
      "metadata": {
        "id": "NCTKg0iHxD3U"
      }
    },
    {
      "cell_type": "code",
      "source": [
        "x = 5\n",
        "y = \"John\"\n",
        "print(type(x))\n",
        "print(type(y))"
      ],
      "metadata": {
        "colab": {
          "base_uri": "https://localhost:8080/"
        },
        "id": "QHHMSHYAxtLw",
        "outputId": "f9ca060d-ac95-4962-e29e-7812f423c73b"
      },
      "execution_count": null,
      "outputs": [
        {
          "output_type": "stream",
          "name": "stdout",
          "text": [
            "<class 'int'>\n",
            "<class 'str'>\n"
          ]
        }
      ]
    },
    {
      "cell_type": "markdown",
      "source": [
        "Many values to multiple variables\n"
      ],
      "metadata": {
        "id": "GqGKTiVDtaLt"
      }
    },
    {
      "cell_type": "code",
      "source": [
        "x,y,z='work','ok','whatever'\n",
        "print(x,y,z)"
      ],
      "metadata": {
        "colab": {
          "base_uri": "https://localhost:8080/"
        },
        "id": "mpnmbDCE4C99",
        "outputId": "f9989d04-7cd5-4927-84a1-bb9adef8edbc"
      },
      "execution_count": null,
      "outputs": [
        {
          "output_type": "stream",
          "name": "stdout",
          "text": [
            "work ok whatever\n"
          ]
        }
      ]
    },
    {
      "cell_type": "markdown",
      "source": [
        "creating a function\n"
      ],
      "metadata": {
        "id": "uWjbZUhD5LQN"
      }
    },
    {
      "cell_type": "code",
      "source": [
        "x = \"awesome\"\n",
        "\n",
        "def myfunc():\n",
        "  print(\"Python is \" + x)\n",
        "\n",
        "myfunc()\n"
      ],
      "metadata": {
        "colab": {
          "base_uri": "https://localhost:8080/"
        },
        "id": "o0aLKanQBs7T",
        "outputId": "31560126-40f2-41fb-a9f5-e1bb6d261b43"
      },
      "execution_count": null,
      "outputs": [
        {
          "output_type": "stream",
          "name": "stdout",
          "text": [
            "Python is awesome\n"
          ]
        }
      ]
    },
    {
      "cell_type": "markdown",
      "source": [
        "If you create a variable with the same name inside a function, this variable will be local, and can only be used inside the function. The global variable with the same name will remain as it was, global and with the original value."
      ],
      "metadata": {
        "id": "9HWR8USBGSPy"
      }
    },
    {
      "cell_type": "code",
      "source": [
        "x = \"awesome\"\n",
        "\n",
        "def myfunc():\n",
        "  x = \"fantastic\"\n",
        "  print(\"Python is \" + x)#this will use the local variable that is inside the function\n",
        "\n",
        "myfunc()\n",
        "\n",
        "print(\"Python is \" + x)#this will use the x variable outside the function\n"
      ],
      "metadata": {
        "colab": {
          "base_uri": "https://localhost:8080/"
        },
        "id": "hRVE1_o2Ghmf",
        "outputId": "8fc77481-039c-4a1c-c477-0c5a728a538b"
      },
      "execution_count": null,
      "outputs": [
        {
          "output_type": "stream",
          "name": "stdout",
          "text": [
            "Python is fantastic\n",
            "Python is awesome\n"
          ]
        }
      ]
    },
    {
      "cell_type": "markdown",
      "source": [
        "Built in data types in Python\n",
        "# **Built in data types in Python**"
      ],
      "metadata": {
        "id": "4pCzoXI8Hl36"
      }
    },
    {
      "cell_type": "markdown",
      "source": [
        "Python has the following data types built-in by default, in these categories:\n",
        "Text Type:\tstr\n",
        "Numeric Types:\tint, float, complex\n",
        "Sequence Types:\tlist, tuple, range\n",
        "Mapping Type:\tdict\n",
        "Set Types:\tset, frozenset\n",
        "Boolean Type:\tbool\n",
        "Binary Types:\tbytes, bytearray, memoryview\n",
        "None Type:\tNoneType"
      ],
      "metadata": {
        "id": "70VGGBFgH3JD"
      }
    },
    {
      "cell_type": "markdown",
      "source": [
        "# **1.STRING**"
      ],
      "metadata": {
        "id": "B3dJfdT7NNLO"
      }
    },
    {
      "cell_type": "markdown",
      "source": [
        "###Multiline Strings###\n",
        "You can assign a multiline string to a variable by using three quotes:"
      ],
      "metadata": {
        "id": "eEwN8-ubN1Z5"
      }
    },
    {
      "cell_type": "code",
      "source": [
        "a = \"\"\"heyyyyyy nice to meet you \"\"\"\n",
        "print(a)"
      ],
      "metadata": {
        "colab": {
          "base_uri": "https://localhost:8080/"
        },
        "id": "yUzoMvxGHwFr",
        "outputId": "90638869-a43c-4273-b6fe-b73e0db892ce"
      },
      "execution_count": null,
      "outputs": [
        {
          "output_type": "stream",
          "name": "stdout",
          "text": [
            "heyyyyyy nice to meet you \n"
          ]
        }
      ]
    },
    {
      "cell_type": "markdown",
      "source": [
        "Strings are Arrays"
      ],
      "metadata": {
        "id": "1ThYnw74Obu1"
      }
    },
    {
      "cell_type": "code",
      "source": [
        "a = \"Hello, World!\"\n",
        "print(a[0])\n",
        "print(a[1])\n",
        "print(a[2])\n",
        "print(a[3])\n",
        "\n"
      ],
      "metadata": {
        "colab": {
          "base_uri": "https://localhost:8080/"
        },
        "id": "fUPQ-6zRObET",
        "outputId": "4e4e74e5-4a17-46c8-cbd1-3b8d9d1a9174"
      },
      "execution_count": null,
      "outputs": [
        {
          "output_type": "stream",
          "name": "stdout",
          "text": [
            "H\n",
            "e\n",
            "l\n",
            "l\n"
          ]
        }
      ]
    },
    {
      "cell_type": "markdown",
      "source": [
        "###Check in string###\n"
      ],
      "metadata": {
        "id": "4aQQAzkqc1Mq"
      }
    },
    {
      "cell_type": "code",
      "source": [
        "txt = \"The best things in life are free!\"\n",
        "print(\"free\" in txt)\n",
        "txt = \"The best things in life are free!\"\n",
        "print(\"out\" in txt)\n"
      ],
      "metadata": {
        "colab": {
          "base_uri": "https://localhost:8080/"
        },
        "id": "fZ4hGSlLcwer",
        "outputId": "500775cc-003f-4182-b22a-d0ef29df1a4f"
      },
      "execution_count": null,
      "outputs": [
        {
          "output_type": "stream",
          "name": "stdout",
          "text": [
            "True\n",
            "False\n"
          ]
        }
      ]
    },
    {
      "cell_type": "markdown",
      "source": [
        "if it is present"
      ],
      "metadata": {
        "id": "9F2fUp78ed4T"
      }
    },
    {
      "cell_type": "code",
      "source": [
        "txt = \"The best things in life are free!\"\n",
        "if \"free\" in txt:\n",
        "  print(\"Yes, 'free' is present.\")"
      ],
      "metadata": {
        "colab": {
          "base_uri": "https://localhost:8080/"
        },
        "id": "g55N7VsneXFH",
        "outputId": "219e9cde-87f3-4d73-ad20-13d5f3be22cb"
      },
      "execution_count": null,
      "outputs": [
        {
          "output_type": "stream",
          "name": "stdout",
          "text": [
            "Yes, 'free' is present.\n"
          ]
        }
      ]
    },
    {
      "cell_type": "markdown",
      "source": [
        "if not present use key word \"not in\""
      ],
      "metadata": {
        "id": "Vy9TeNKjek0z"
      }
    },
    {
      "cell_type": "code",
      "source": [
        "txt = \"The best things in life are free!\"\n",
        "print(\"expensive\" not in txt)"
      ],
      "metadata": {
        "colab": {
          "base_uri": "https://localhost:8080/"
        },
        "id": "JxGWQxRPet1h",
        "outputId": "73862159-ad2a-4a0e-d755-8800a6a9d7ec"
      },
      "execution_count": null,
      "outputs": [
        {
          "output_type": "stream",
          "name": "stdout",
          "text": [
            "True\n"
          ]
        }
      ]
    },
    {
      "cell_type": "markdown",
      "source": [
        "###String Slicing###"
      ],
      "metadata": {
        "id": "RqPDZmPAedM-"
      }
    },
    {
      "cell_type": "markdown",
      "source": [
        "Get the characters from position 2 to position 5 (not included)\n"
      ],
      "metadata": {
        "id": "NcIDD1gBNK6t"
      }
    },
    {
      "cell_type": "code",
      "source": [
        "b = \"Hello, World!\"\n",
        "print(b[2:5])\n"
      ],
      "metadata": {
        "colab": {
          "base_uri": "https://localhost:8080/"
        },
        "id": "y9_-H1VFjX4y",
        "outputId": "86f56e3a-920e-47ff-a786-61b01c0c7c08"
      },
      "execution_count": null,
      "outputs": [
        {
          "output_type": "stream",
          "name": "stdout",
          "text": [
            "llo\n"
          ]
        }
      ]
    },
    {
      "cell_type": "markdown",
      "source": [
        "**Slice From the Start**\n",
        "By leaving out the start index, the range will start at the first character:"
      ],
      "metadata": {
        "id": "v6ssJjpGjn7_"
      }
    },
    {
      "cell_type": "code",
      "source": [
        "b = \"Hello, World!\"\n",
        "print(b[:5])"
      ],
      "metadata": {
        "colab": {
          "base_uri": "https://localhost:8080/"
        },
        "id": "pj3j93t9jrEU",
        "outputId": "8966ac2a-c08e-4fe4-f578-0afef6e5b932"
      },
      "execution_count": null,
      "outputs": [
        {
          "output_type": "stream",
          "name": "stdout",
          "text": [
            "Hello\n"
          ]
        }
      ]
    },
    {
      "cell_type": "markdown",
      "source": [
        "**Slice To the End**\n",
        "By leaving out the end index, the range will go to the end:"
      ],
      "metadata": {
        "id": "X89MVatNj1sI"
      }
    },
    {
      "cell_type": "code",
      "source": [
        "b = \"Hello, World!\"\n",
        "print(b[2:])"
      ],
      "metadata": {
        "colab": {
          "base_uri": "https://localhost:8080/"
        },
        "id": "IFZP4gi4j8OW",
        "outputId": "ed9e49d5-56f7-4d29-9cc8-6798bca2649b"
      },
      "execution_count": null,
      "outputs": [
        {
          "output_type": "stream",
          "name": "stdout",
          "text": [
            "llo, World!\n"
          ]
        }
      ]
    },
    {
      "cell_type": "markdown",
      "source": [
        "**Negative Indexing**\n",
        "Use negative indexes to start the slice from the end of the string:"
      ],
      "metadata": {
        "id": "dwBtnpDYkh79"
      }
    },
    {
      "cell_type": "code",
      "source": [
        "b = \"Hello, World!\"\n",
        "print(b[-5:-2])"
      ],
      "metadata": {
        "colab": {
          "base_uri": "https://localhost:8080/"
        },
        "id": "6exTb-Zjj1N0",
        "outputId": "9e7f3361-63de-4857-fe18-0eabcf68d49d"
      },
      "execution_count": null,
      "outputs": [
        {
          "output_type": "stream",
          "name": "stdout",
          "text": [
            "orl\n"
          ]
        }
      ]
    },
    {
      "cell_type": "markdown",
      "source": [
        "###Concatination and formating of String###\n"
      ],
      "metadata": {
        "id": "zKhso6xC5uhS"
      }
    },
    {
      "cell_type": "markdown",
      "source": [
        "**Concatination of String**"
      ],
      "metadata": {
        "id": "I8j4_x7_9Rdx"
      }
    },
    {
      "cell_type": "code",
      "source": [
        "a = \"Hello\"\n",
        "b = \"World\"\n",
        "c = a + \" \" + b\n",
        "print(c)"
      ],
      "metadata": {
        "colab": {
          "base_uri": "https://localhost:8080/"
        },
        "id": "kEgSRffy9XqI",
        "outputId": "5c376589-4e48-46fb-da03-069253ccf0ec"
      },
      "execution_count": null,
      "outputs": [
        {
          "output_type": "stream",
          "name": "stdout",
          "text": [
            "Hello World\n"
          ]
        }
      ]
    },
    {
      "cell_type": "markdown",
      "source": [
        "**Format Strings**"
      ],
      "metadata": {
        "id": "TLIK0cWZ9hVL"
      }
    },
    {
      "cell_type": "code",
      "source": [
        "age = 36\n",
        "txt = f\"My name is John, I am {age}\"\n",
        "print(txt)"
      ],
      "metadata": {
        "colab": {
          "base_uri": "https://localhost:8080/"
        },
        "id": "aA95gbqV9ni-",
        "outputId": "ea7432c0-03ad-47ab-e260-9a2de1abf3a3"
      },
      "execution_count": null,
      "outputs": [
        {
          "output_type": "stream",
          "name": "stdout",
          "text": [
            "My name is John, I am 36\n"
          ]
        }
      ]
    },
    {
      "cell_type": "markdown",
      "source": [
        "###Moidifier###"
      ],
      "metadata": {
        "id": "ntklcTXI_UoI"
      }
    },
    {
      "cell_type": "markdown",
      "source": [
        "A modifier is included by adding a colon : followed by a legal formatting type, like .2f which means fixed point number with 2 decimals:"
      ],
      "metadata": {
        "id": "j-nY02y-_cMX"
      }
    },
    {
      "cell_type": "code",
      "source": [
        "price = 59\n",
        "txt = f\"The price is {price:.2f} dollars\"\n",
        "print(txt)"
      ],
      "metadata": {
        "colab": {
          "base_uri": "https://localhost:8080/"
        },
        "id": "OH7K9aGP_Yo8",
        "outputId": "573d39ca-c307-42f5-a930-4c11ef7f5703"
      },
      "execution_count": null,
      "outputs": [
        {
          "output_type": "stream",
          "name": "stdout",
          "text": [
            "The price is 59.00 dollars\n"
          ]
        }
      ]
    },
    {
      "cell_type": "code",
      "source": [],
      "metadata": {
        "id": "S1fT7KdFcAwo"
      },
      "execution_count": null,
      "outputs": []
    },
    {
      "cell_type": "markdown",
      "source": [],
      "metadata": {
        "id": "gjI7tgm0cQen"
      }
    },
    {
      "cell_type": "code",
      "source": [],
      "metadata": {
        "id": "WEFYmK5WcQIe"
      },
      "execution_count": null,
      "outputs": []
    },
    {
      "cell_type": "markdown",
      "source": [
        "# **2.List**"
      ],
      "metadata": {
        "id": "3sLe1Xw2cVRK"
      }
    },
    {
      "cell_type": "markdown",
      "source": [
        "Lists are used to store multiple items in a single variable.\n",
        "\n",
        "Lists are one of 4 built-in data types in Python used to store collections of data, the other 3 are Tuple, Set, and Dictionary, all with different qualities and usage.\n",
        "\n",
        "1.Lists are created using square brackets:\n",
        "2.Ordered\n",
        "When we say that lists are ordered, it means that the items have a defined order, and that order will not change.\n",
        "If you add new items to a list, the new items will be placed at the end of the list.\n",
        "Note: There are some list methods that will change the order, but in general: the order of the items will not change."
      ],
      "metadata": {
        "id": "4rUUfINscdQC"
      }
    },
    {
      "cell_type": "markdown",
      "source": [
        "###List Length\n",
        "To determine how many items a list has, use the len() function:"
      ],
      "metadata": {
        "id": "41aJmw9Qdn7s"
      }
    },
    {
      "cell_type": "code",
      "source": [
        "thislist = [\"apple\", \"banana\", \"cherry\"]\n",
        "print(len(thislist))"
      ],
      "metadata": {
        "colab": {
          "base_uri": "https://localhost:8080/"
        },
        "id": "MhRAIZdmdnof",
        "outputId": "0c242651-30e7-4e51-d216-3a0fe14b720b"
      },
      "execution_count": null,
      "outputs": [
        {
          "output_type": "stream",
          "name": "stdout",
          "text": [
            "3\n"
          ]
        }
      ]
    },
    {
      "cell_type": "markdown",
      "source": [
        "###Converting to a list"
      ],
      "metadata": {
        "id": "2HEOjyBF5qwo"
      }
    },
    {
      "cell_type": "code",
      "source": [
        "a=list((\"bobby\"))\n",
        "print(a)"
      ],
      "metadata": {
        "colab": {
          "base_uri": "https://localhost:8080/"
        },
        "id": "CgowU8UtdOPj",
        "outputId": "28bdc414-b392-4114-be55-3b6d793e51d4"
      },
      "execution_count": null,
      "outputs": [
        {
          "output_type": "stream",
          "name": "stdout",
          "text": [
            "['b', 'o', 'b', 'b', 'y']\n"
          ]
        }
      ]
    }
  ]
}